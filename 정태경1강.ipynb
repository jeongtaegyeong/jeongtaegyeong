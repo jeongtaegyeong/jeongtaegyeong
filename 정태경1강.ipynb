{
  "nbformat": 4,
  "nbformat_minor": 0,
  "metadata": {
    "colab": {
      "provenance": [],
      "collapsed_sections": [],
      "authorship_tag": "ABX9TyPX6PZDukdCbhdSSTreSn6S",
      "include_colab_link": true
    },
    "kernelspec": {
      "name": "python3",
      "display_name": "Python 3"
    },
    "language_info": {
      "name": "python"
    }
  },
  "cells": [
    {
      "cell_type": "markdown",
      "metadata": {
        "id": "view-in-github",
        "colab_type": "text"
      },
      "source": [
        "<a href=\"https://colab.research.google.com/github/jeongtaegyeong/jeongtaegyeong/blob/main/%EC%A0%95%ED%83%9C%EA%B2%BD1%EA%B0%95.ipynb\" target=\"_parent\"><img src=\"https://colab.research.google.com/assets/colab-badge.svg\" alt=\"Open In Colab\"/></a>"
      ]
    },
    {
      "cell_type": "code",
      "execution_count": null,
      "metadata": {
        "id": "VOiQTVO2mO8M"
      },
      "outputs": [],
      "source": [
        "def greet():\n",
        "  print(\"hello world\")"
      ]
    },
    {
      "cell_type": "code",
      "source": [
        "greet()"
      ],
      "metadata": {
        "colab": {
          "base_uri": "https://localhost:8080/"
        },
        "id": "O3XASIJ7rLB-",
        "outputId": "1e09f28b-bfd1-43a4-9c66-860c8b654d05"
      },
      "execution_count": null,
      "outputs": [
        {
          "output_type": "stream",
          "name": "stdout",
          "text": [
            "hello world\n"
          ]
        }
      ]
    },
    {
      "cell_type": "code",
      "source": [
        "def add(a,b):\n",
        "  c=a+b\n",
        "  return c"
      ],
      "metadata": {
        "id": "02qqH_TRuYoA"
      },
      "execution_count": null,
      "outputs": []
    },
    {
      "cell_type": "code",
      "source": [
        "print(add(3,7))"
      ],
      "metadata": {
        "colab": {
          "base_uri": "https://localhost:8080/"
        },
        "id": "0oLXbZDyu7CN",
        "outputId": "8e044142-0e62-4e57-f495-ec85c5a87d98"
      },
      "execution_count": null,
      "outputs": [
        {
          "output_type": "stream",
          "name": "stdout",
          "text": [
            "10\n"
          ]
        }
      ]
    },
    {
      "cell_type": "code",
      "source": [
        "def multiply(a,b):\n",
        "  c=a*b\n",
        "  return c"
      ],
      "metadata": {
        "id": "t1d0oQGiwv_M"
      },
      "execution_count": null,
      "outputs": []
    },
    {
      "cell_type": "code",
      "source": [
        "print(multiply(2,3))"
      ],
      "metadata": {
        "colab": {
          "base_uri": "https://localhost:8080/"
        },
        "id": "t04EGQCCw3if",
        "outputId": "ae18cc88-8f31-407c-8707-86e3ab5a83c9"
      },
      "execution_count": null,
      "outputs": [
        {
          "output_type": "stream",
          "name": "stdout",
          "text": [
            "6\n"
          ]
        }
      ]
    },
    {
      "cell_type": "code",
      "source": [
        "def greet2(name):\n",
        "  print('반갑습니다', name)\n",
        "  print(name, '님은 파이썬의 세계로 오셨습니다')"
      ],
      "metadata": {
        "id": "6rGSD_3Xy3vK"
      },
      "execution_count": null,
      "outputs": []
    },
    {
      "cell_type": "code",
      "source": [
        "greet2('정태경')"
      ],
      "metadata": {
        "colab": {
          "base_uri": "https://localhost:8080/"
        },
        "id": "FyV7kALpzCv4",
        "outputId": "e23bb4cb-dc5e-4c0b-c968-d5804ed3f01f"
      },
      "execution_count": null,
      "outputs": [
        {
          "output_type": "stream",
          "name": "stdout",
          "text": [
            "반갑습니다 정태경\n",
            "정태경 님은 파이썬의 세계로 오셨습니다\n"
          ]
        }
      ]
    },
    {
      "cell_type": "code",
      "source": [
        "def adder(num1,num2):\n",
        "  sum=num1+num2\n",
        "  print('덧셈결과:', num1+num2)"
      ],
      "metadata": {
        "id": "nSRLrVOfzo1c"
      },
      "execution_count": null,
      "outputs": []
    },
    {
      "cell_type": "code",
      "source": [
        "print(adder(10,5))"
      ],
      "metadata": {
        "colab": {
          "base_uri": "https://localhost:8080/"
        },
        "id": "J9zUfriaz9hb",
        "outputId": "501e7e10-5f94-45ee-f2a5-779ce19f8e96"
      },
      "execution_count": null,
      "outputs": [
        {
          "output_type": "stream",
          "name": "stdout",
          "text": [
            "덧셈결과: 15\n",
            "None\n"
          ]
        }
      ]
    },
    {
      "cell_type": "code",
      "source": [
        "def adder(num1,num2):\n",
        "  sum=num1+num2\n",
        "  return sum"
      ],
      "metadata": {
        "id": "K0cyw6Ch0cpm"
      },
      "execution_count": null,
      "outputs": []
    },
    {
      "cell_type": "code",
      "source": [
        "result=adder(10,5)"
      ],
      "metadata": {
        "id": "RYzBV55B0iA2"
      },
      "execution_count": null,
      "outputs": []
    },
    {
      "cell_type": "code",
      "source": [
        "print(result)"
      ],
      "metadata": {
        "colab": {
          "base_uri": "https://localhost:8080/"
        },
        "id": "5K4f1Ono0yox",
        "outputId": "36aad534-95fe-4768-8211-aa435ae79352"
      },
      "execution_count": null,
      "outputs": [
        {
          "output_type": "stream",
          "name": "stdout",
          "text": [
            "15\n"
          ]
        }
      ]
    },
    {
      "cell_type": "code",
      "source": [
        "def adder(num1,num2):\n",
        "  sum=num1+num2\n",
        "  return sum\n",
        "def main():\n",
        "  print(adder(10,3))"
      ],
      "metadata": {
        "id": "ox_Jl0nE1pVg"
      },
      "execution_count": null,
      "outputs": []
    },
    {
      "cell_type": "code",
      "source": [
        "main()"
      ],
      "metadata": {
        "colab": {
          "base_uri": "https://localhost:8080/"
        },
        "id": "u2SXdJ_e11oZ",
        "outputId": "2861436a-8db6-4b76-b0ea-56baeb577511"
      },
      "execution_count": null,
      "outputs": [
        {
          "output_type": "stream",
          "name": "stdout",
          "text": [
            "13\n"
          ]
        }
      ]
    },
    {
      "cell_type": "code",
      "source": [
        "result = eval(input('뭐든 넣어요:'))"
      ],
      "metadata": {
        "id": "gWDJwtwN2Jtq",
        "colab": {
          "base_uri": "https://localhost:8080/"
        },
        "outputId": "9e10ff31-f975-41a2-cf88-fbd407778554"
      },
      "execution_count": null,
      "outputs": [
        {
          "name": "stdout",
          "output_type": "stream",
          "text": [
            "뭐든 넣어요:2-4*5+3\n"
          ]
        }
      ]
    },
    {
      "cell_type": "code",
      "source": [
        "result"
      ],
      "metadata": {
        "colab": {
          "base_uri": "https://localhost:8080/"
        },
        "id": "vyXgXuSh3NAQ",
        "outputId": "89b336bc-aa2a-418c-affb-17010ead19db"
      },
      "execution_count": null,
      "outputs": [
        {
          "output_type": "execute_result",
          "data": {
            "text/plain": [
              "-15"
            ]
          },
          "metadata": {},
          "execution_count": 94
        }
      ]
    },
    {
      "cell_type": "code",
      "source": [
        "def ret():\n",
        "  return 12"
      ],
      "metadata": {
        "id": "5eM3Jx8Q3ieN"
      },
      "execution_count": null,
      "outputs": []
    },
    {
      "cell_type": "code",
      "source": [
        "result = eval(input(\"뭐든 넣어요:\"))"
      ],
      "metadata": {
        "colab": {
          "base_uri": "https://localhost:8080/"
        },
        "id": "vQRsz_sF3mhd",
        "outputId": "c79cb8d1-f286-4ddf-e0d6-aee9609999d7"
      },
      "execution_count": null,
      "outputs": [
        {
          "name": "stdout",
          "output_type": "stream",
          "text": [
            "뭐든 넣어요:ret()\n"
          ]
        }
      ]
    },
    {
      "cell_type": "code",
      "source": [
        "print(result)"
      ],
      "metadata": {
        "colab": {
          "base_uri": "https://localhost:8080/"
        },
        "id": "PL7bVn5j3vmk",
        "outputId": "684792af-ff7e-4e64-bc48-aa3c06ed06b4"
      },
      "execution_count": null,
      "outputs": [
        {
          "output_type": "stream",
          "name": "stdout",
          "text": [
            "12\n"
          ]
        }
      ]
    },
    {
      "cell_type": "code",
      "source": [
        "def greet_three_times():\n",
        "  print('hi')\n",
        "  print('hi')\n",
        "  print('hi')"
      ],
      "metadata": {
        "id": "MFO7aL7euVPM"
      },
      "execution_count": null,
      "outputs": []
    },
    {
      "cell_type": "code",
      "source": [
        "greet_three_times()"
      ],
      "metadata": {
        "colab": {
          "base_uri": "https://localhost:8080/"
        },
        "id": "sKc9h96-uiMK",
        "outputId": "3fc91e66-ebc7-4c9d-8170-1b034a26b521"
      },
      "execution_count": null,
      "outputs": [
        {
          "output_type": "stream",
          "name": "stdout",
          "text": [
            "hi\n",
            "hi\n",
            "hi\n"
          ]
        }
      ]
    },
    {
      "cell_type": "code",
      "source": [
        "def greet_10(num):\n",
        "  if (num>0):\n",
        "    print('hi')\n",
        "    num=num-1\n",
        "    greet_10(num)"
      ],
      "metadata": {
        "id": "n6l73S_cuooc"
      },
      "execution_count": null,
      "outputs": []
    },
    {
      "cell_type": "code",
      "source": [
        "greet_10(3)"
      ],
      "metadata": {
        "colab": {
          "base_uri": "https://localhost:8080/"
        },
        "id": "xtIQ7YbAu312",
        "outputId": "1d0427ef-7e58-4766-adf0-dd24391445fb"
      },
      "execution_count": null,
      "outputs": [
        {
          "output_type": "stream",
          "name": "stdout",
          "text": [
            "hi\n",
            "hi\n",
            "hi\n"
          ]
        }
      ]
    },
    {
      "cell_type": "code",
      "source": [
        "import random\n",
        "NUMBER_OF_TRIALS = 5000000\n",
        "numberOfHits = 0\n",
        "\n",
        "for i in range (NUMBER_OF_TRIALS):\n",
        "  x=random.random() * 2 - 1\n",
        "  y=random.random() * 2 - 1\n",
        "  if x*x+y*y <= 1:\n",
        "    numberOfHits += 1\n",
        "pi = 4 * numberOfHits / NUMBER_OF_TRIALS\n",
        "print(\"PI는\", pi, \"입니다.\")"
      ],
      "metadata": {
        "colab": {
          "base_uri": "https://localhost:8080/"
        },
        "id": "pLNZYhHfvDIe",
        "outputId": "dd3cf7cf-8ba3-4870-af2a-1c0a1e3785d2"
      },
      "execution_count": 1,
      "outputs": [
        {
          "output_type": "stream",
          "name": "stdout",
          "text": [
            "PI는 3.1416184 입니다.\n"
          ]
        }
      ]
    },
    {
      "cell_type": "code",
      "source": [
        "count = 0\n",
        "while count < 100:\n",
        "  print(\"프로그래밍은 재미있습니다!\")\n",
        "  count = count + 1"
      ],
      "metadata": {
        "colab": {
          "base_uri": "https://localhost:8080/"
        },
        "id": "vXVdt8YFjVWp",
        "outputId": "50c12a78-01c3-45f8-a8c6-38d165a66795"
      },
      "execution_count": 2,
      "outputs": [
        {
          "output_type": "stream",
          "name": "stdout",
          "text": [
            "프로그래밍은 재미있습니다!\n",
            "프로그래밍은 재미있습니다!\n",
            "프로그래밍은 재미있습니다!\n",
            "프로그래밍은 재미있습니다!\n",
            "프로그래밍은 재미있습니다!\n",
            "프로그래밍은 재미있습니다!\n",
            "프로그래밍은 재미있습니다!\n",
            "프로그래밍은 재미있습니다!\n",
            "프로그래밍은 재미있습니다!\n",
            "프로그래밍은 재미있습니다!\n",
            "프로그래밍은 재미있습니다!\n",
            "프로그래밍은 재미있습니다!\n",
            "프로그래밍은 재미있습니다!\n",
            "프로그래밍은 재미있습니다!\n",
            "프로그래밍은 재미있습니다!\n",
            "프로그래밍은 재미있습니다!\n",
            "프로그래밍은 재미있습니다!\n",
            "프로그래밍은 재미있습니다!\n",
            "프로그래밍은 재미있습니다!\n",
            "프로그래밍은 재미있습니다!\n",
            "프로그래밍은 재미있습니다!\n",
            "프로그래밍은 재미있습니다!\n",
            "프로그래밍은 재미있습니다!\n",
            "프로그래밍은 재미있습니다!\n",
            "프로그래밍은 재미있습니다!\n",
            "프로그래밍은 재미있습니다!\n",
            "프로그래밍은 재미있습니다!\n",
            "프로그래밍은 재미있습니다!\n",
            "프로그래밍은 재미있습니다!\n",
            "프로그래밍은 재미있습니다!\n",
            "프로그래밍은 재미있습니다!\n",
            "프로그래밍은 재미있습니다!\n",
            "프로그래밍은 재미있습니다!\n",
            "프로그래밍은 재미있습니다!\n",
            "프로그래밍은 재미있습니다!\n",
            "프로그래밍은 재미있습니다!\n",
            "프로그래밍은 재미있습니다!\n",
            "프로그래밍은 재미있습니다!\n",
            "프로그래밍은 재미있습니다!\n",
            "프로그래밍은 재미있습니다!\n",
            "프로그래밍은 재미있습니다!\n",
            "프로그래밍은 재미있습니다!\n",
            "프로그래밍은 재미있습니다!\n",
            "프로그래밍은 재미있습니다!\n",
            "프로그래밍은 재미있습니다!\n",
            "프로그래밍은 재미있습니다!\n",
            "프로그래밍은 재미있습니다!\n",
            "프로그래밍은 재미있습니다!\n",
            "프로그래밍은 재미있습니다!\n",
            "프로그래밍은 재미있습니다!\n",
            "프로그래밍은 재미있습니다!\n",
            "프로그래밍은 재미있습니다!\n",
            "프로그래밍은 재미있습니다!\n",
            "프로그래밍은 재미있습니다!\n",
            "프로그래밍은 재미있습니다!\n",
            "프로그래밍은 재미있습니다!\n",
            "프로그래밍은 재미있습니다!\n",
            "프로그래밍은 재미있습니다!\n",
            "프로그래밍은 재미있습니다!\n",
            "프로그래밍은 재미있습니다!\n",
            "프로그래밍은 재미있습니다!\n",
            "프로그래밍은 재미있습니다!\n",
            "프로그래밍은 재미있습니다!\n",
            "프로그래밍은 재미있습니다!\n",
            "프로그래밍은 재미있습니다!\n",
            "프로그래밍은 재미있습니다!\n",
            "프로그래밍은 재미있습니다!\n",
            "프로그래밍은 재미있습니다!\n",
            "프로그래밍은 재미있습니다!\n",
            "프로그래밍은 재미있습니다!\n",
            "프로그래밍은 재미있습니다!\n",
            "프로그래밍은 재미있습니다!\n",
            "프로그래밍은 재미있습니다!\n",
            "프로그래밍은 재미있습니다!\n",
            "프로그래밍은 재미있습니다!\n",
            "프로그래밍은 재미있습니다!\n",
            "프로그래밍은 재미있습니다!\n",
            "프로그래밍은 재미있습니다!\n",
            "프로그래밍은 재미있습니다!\n",
            "프로그래밍은 재미있습니다!\n",
            "프로그래밍은 재미있습니다!\n",
            "프로그래밍은 재미있습니다!\n",
            "프로그래밍은 재미있습니다!\n",
            "프로그래밍은 재미있습니다!\n",
            "프로그래밍은 재미있습니다!\n",
            "프로그래밍은 재미있습니다!\n",
            "프로그래밍은 재미있습니다!\n",
            "프로그래밍은 재미있습니다!\n",
            "프로그래밍은 재미있습니다!\n",
            "프로그래밍은 재미있습니다!\n",
            "프로그래밍은 재미있습니다!\n",
            "프로그래밍은 재미있습니다!\n",
            "프로그래밍은 재미있습니다!\n",
            "프로그래밍은 재미있습니다!\n",
            "프로그래밍은 재미있습니다!\n",
            "프로그래밍은 재미있습니다!\n",
            "프로그래밍은 재미있습니다!\n",
            "프로그래밍은 재미있습니다!\n",
            "프로그래밍은 재미있습니다!\n",
            "프로그래밍은 재미있습니다!\n"
          ]
        }
      ]
    },
    {
      "cell_type": "code",
      "source": [
        "import random\n",
        "NUMBER_OF_TRIALS = 5000000\n",
        "numberOfHits = 0\n",
        "i=0\n",
        "while (i<NUMBER_OF_TRIALS):\n",
        "  x=random.random() * 2 - 1\n",
        "  y=random.random() * 2 - 1\n",
        "  if x*x+y*y <= 1:\n",
        "    numberOfHits += 1\n",
        "  i=i+1\n",
        "pi = 4 * numberOfHits / NUMBER_OF_TRIALS\n",
        "print(\"PI는\", pi, \"입니다.\")"
      ],
      "metadata": {
        "colab": {
          "base_uri": "https://localhost:8080/"
        },
        "id": "YDvVtueHwAGP",
        "outputId": "af4b9528-fdd6-4c01-9d8e-10b9053cf27a"
      },
      "execution_count": null,
      "outputs": [
        {
          "output_type": "stream",
          "name": "stdout",
          "text": [
            "PI는 3.1402216 입니다.\n"
          ]
        }
      ]
    },
    {
      "cell_type": "code",
      "source": [
        "x=3\n",
        "y=2\n",
        "x>y"
      ],
      "metadata": {
        "colab": {
          "base_uri": "https://localhost:8080/"
        },
        "id": "u7pYXpuqxBlb",
        "outputId": "18ac9bf7-43db-4f3a-83f6-71998859001d"
      },
      "execution_count": null,
      "outputs": [
        {
          "output_type": "execute_result",
          "data": {
            "text/plain": [
              "True"
            ]
          },
          "metadata": {},
          "execution_count": 11
        }
      ]
    },
    {
      "cell_type": "code",
      "source": [
        "x=3\n",
        "y=2\n",
        "bool(x>y)"
      ],
      "metadata": {
        "colab": {
          "base_uri": "https://localhost:8080/"
        },
        "id": "APJKipTqxFfD",
        "outputId": "ded5b52d-d909-48bf-9dfa-ede5ef82509b"
      },
      "execution_count": null,
      "outputs": [
        {
          "output_type": "execute_result",
          "data": {
            "text/plain": [
              "True"
            ]
          },
          "metadata": {},
          "execution_count": 12
        }
      ]
    },
    {
      "cell_type": "code",
      "source": [
        "x=3\n",
        "y=2\n",
        "bool(x!=y)"
      ],
      "metadata": {
        "colab": {
          "base_uri": "https://localhost:8080/"
        },
        "id": "FW9avMzjxLXN",
        "outputId": "49da8510-7f53-4ab7-b20c-ad17f9e807ea"
      },
      "execution_count": null,
      "outputs": [
        {
          "output_type": "execute_result",
          "data": {
            "text/plain": [
              "True"
            ]
          },
          "metadata": {},
          "execution_count": 13
        }
      ]
    },
    {
      "cell_type": "code",
      "source": [
        "x=3\n",
        "y=2\n",
        "bool(x==y)"
      ],
      "metadata": {
        "colab": {
          "base_uri": "https://localhost:8080/"
        },
        "id": "MhRy4eD2xOql",
        "outputId": "68aa5318-ffc4-4dd7-9bc7-feb90146cf54"
      },
      "execution_count": null,
      "outputs": [
        {
          "output_type": "execute_result",
          "data": {
            "text/plain": [
              "False"
            ]
          },
          "metadata": {},
          "execution_count": 14
        }
      ]
    },
    {
      "cell_type": "code",
      "source": [
        "x=3\n",
        "y=2\n",
        "bool(x<=y)"
      ],
      "metadata": {
        "colab": {
          "base_uri": "https://localhost:8080/"
        },
        "id": "fDJpHh-RxRaj",
        "outputId": "ff385c61-09e8-4c1f-f6ce-ccdeb436c51b"
      },
      "execution_count": null,
      "outputs": [
        {
          "output_type": "execute_result",
          "data": {
            "text/plain": [
              "False"
            ]
          },
          "metadata": {},
          "execution_count": 15
        }
      ]
    },
    {
      "cell_type": "code",
      "source": [
        "money=2000\n",
        "if money >= 3000:\n",
        "  print(\"택시를 타고 가라\")\n",
        "else:\n",
        "   print(\"걸어가라\")"
      ],
      "metadata": {
        "colab": {
          "base_uri": "https://localhost:8080/"
        },
        "id": "7QNNpwEsxWc5",
        "outputId": "aea6b450-769d-4af6-9b56-802df92a778d"
      },
      "execution_count": null,
      "outputs": [
        {
          "output_type": "stream",
          "name": "stdout",
          "text": [
            "걸어가라\n"
          ]
        }
      ]
    },
    {
      "cell_type": "code",
      "source": [
        "money=2000\n",
        "card = True\n",
        "if money >= 3000 or card:\n",
        "  print(\"택시를 타고 가라\")\n",
        "else:\n",
        "  print(\"걸어가라\")"
      ],
      "metadata": {
        "colab": {
          "base_uri": "https://localhost:8080/"
        },
        "id": "aRYBoULuxlpE",
        "outputId": "25ceb4d1-7178-4568-e008-eb0d85e1e2c2"
      },
      "execution_count": null,
      "outputs": [
        {
          "output_type": "stream",
          "name": "stdout",
          "text": [
            "택시를 타고 가라\n"
          ]
        }
      ]
    },
    {
      "cell_type": "code",
      "source": [
        "bool(True or True)"
      ],
      "metadata": {
        "colab": {
          "base_uri": "https://localhost:8080/"
        },
        "id": "kvae8_34yG-b",
        "outputId": "223aaddf-ff09-4002-fee7-c3d18d820658"
      },
      "execution_count": null,
      "outputs": [
        {
          "output_type": "execute_result",
          "data": {
            "text/plain": [
              "True"
            ]
          },
          "metadata": {},
          "execution_count": 20
        }
      ]
    },
    {
      "cell_type": "code",
      "source": [
        "bool(True or False)"
      ],
      "metadata": {
        "colab": {
          "base_uri": "https://localhost:8080/"
        },
        "id": "V-pp1dIzyIyg",
        "outputId": "3f334247-987e-4967-c2ea-b355085a2821"
      },
      "execution_count": null,
      "outputs": [
        {
          "output_type": "execute_result",
          "data": {
            "text/plain": [
              "True"
            ]
          },
          "metadata": {},
          "execution_count": 21
        }
      ]
    },
    {
      "cell_type": "code",
      "source": [
        "bool(False or False)"
      ],
      "metadata": {
        "colab": {
          "base_uri": "https://localhost:8080/"
        },
        "id": "WSDIdMQ4yLEu",
        "outputId": "880fcf44-6e5e-4a9b-d260-29085df6b4b0"
      },
      "execution_count": null,
      "outputs": [
        {
          "output_type": "execute_result",
          "data": {
            "text/plain": [
              "False"
            ]
          },
          "metadata": {},
          "execution_count": 22
        }
      ]
    },
    {
      "cell_type": "code",
      "source": [
        "bool(not True)"
      ],
      "metadata": {
        "colab": {
          "base_uri": "https://localhost:8080/"
        },
        "id": "CNnlfa_KyN_E",
        "outputId": "be8d8592-22c5-432e-b989-ba997b97439c"
      },
      "execution_count": null,
      "outputs": [
        {
          "output_type": "execute_result",
          "data": {
            "text/plain": [
              "False"
            ]
          },
          "metadata": {},
          "execution_count": 23
        }
      ]
    },
    {
      "cell_type": "code",
      "source": [
        "bool(not False)"
      ],
      "metadata": {
        "colab": {
          "base_uri": "https://localhost:8080/"
        },
        "id": "J7af6Ze1yQi1",
        "outputId": "8ab953d1-7731-4fc6-b6dc-bbcb3eda1bb2"
      },
      "execution_count": null,
      "outputs": [
        {
          "output_type": "execute_result",
          "data": {
            "text/plain": [
              "True"
            ]
          },
          "metadata": {},
          "execution_count": 24
        }
      ]
    },
    {
      "cell_type": "code",
      "source": [
        "bool(not (True or False))"
      ],
      "metadata": {
        "colab": {
          "base_uri": "https://localhost:8080/"
        },
        "id": "IpXnCK0AySY7",
        "outputId": "b86201f0-967b-4ea4-bdea-b7c866fb32cb"
      },
      "execution_count": null,
      "outputs": [
        {
          "output_type": "execute_result",
          "data": {
            "text/plain": [
              "False"
            ]
          },
          "metadata": {},
          "execution_count": 26
        }
      ]
    },
    {
      "cell_type": "code",
      "source": [
        "bool((not True)or False)"
      ],
      "metadata": {
        "colab": {
          "base_uri": "https://localhost:8080/"
        },
        "id": "dIP-uEZayX8l",
        "outputId": "1c1adeb6-2e44-4157-f58c-b1de9863b2ac"
      },
      "execution_count": null,
      "outputs": [
        {
          "output_type": "execute_result",
          "data": {
            "text/plain": [
              "False"
            ]
          },
          "metadata": {},
          "execution_count": 27
        }
      ]
    },
    {
      "cell_type": "code",
      "source": [
        "bool((not False)or False)"
      ],
      "metadata": {
        "colab": {
          "base_uri": "https://localhost:8080/"
        },
        "id": "Lj_wySC5ycv2",
        "outputId": "2eb41a11-99bd-4369-839d-4c27fa19e49a"
      },
      "execution_count": null,
      "outputs": [
        {
          "output_type": "execute_result",
          "data": {
            "text/plain": [
              "True"
            ]
          },
          "metadata": {},
          "execution_count": 29
        }
      ]
    },
    {
      "cell_type": "code",
      "source": [
        "bool((not False)or False)"
      ],
      "metadata": {
        "colab": {
          "base_uri": "https://localhost:8080/"
        },
        "id": "keLQxBFFykA9",
        "outputId": "67a74d4d-ae67-4ce2-9bbc-1137f9d4eddd"
      },
      "execution_count": null,
      "outputs": [
        {
          "output_type": "execute_result",
          "data": {
            "text/plain": [
              "True"
            ]
          },
          "metadata": {},
          "execution_count": 30
        }
      ]
    },
    {
      "cell_type": "code",
      "source": [
        "1 in [1,2,3]"
      ],
      "metadata": {
        "colab": {
          "base_uri": "https://localhost:8080/"
        },
        "id": "iABed23KyrE6",
        "outputId": "1f7c5cb1-f689-456e-a6a9-339f7ee8c006"
      },
      "execution_count": null,
      "outputs": [
        {
          "output_type": "execute_result",
          "data": {
            "text/plain": [
              "True"
            ]
          },
          "metadata": {},
          "execution_count": 31
        }
      ]
    },
    {
      "cell_type": "code",
      "source": [
        "1 not in [1,2,3]"
      ],
      "metadata": {
        "colab": {
          "base_uri": "https://localhost:8080/"
        },
        "id": "6m5oTi9EyswL",
        "outputId": "5a2f64e5-8fb5-4d3d-b259-32230d8f2cbb"
      },
      "execution_count": null,
      "outputs": [
        {
          "output_type": "execute_result",
          "data": {
            "text/plain": [
              "False"
            ]
          },
          "metadata": {},
          "execution_count": 32
        }
      ]
    },
    {
      "cell_type": "code",
      "source": [
        "pocket = ['paper','cellphone','money']\n",
        "if 'money' in pocket:\n",
        "  print(\"택시를 타고 가라\")\n",
        "else:\n",
        "  print(\"걸어가라\")"
      ],
      "metadata": {
        "colab": {
          "base_uri": "https://localhost:8080/"
        },
        "id": "NgjVN9ENyv0v",
        "outputId": "b1e24cc8-ac26-47a6-ccfa-e33c857e28b0"
      },
      "execution_count": null,
      "outputs": [
        {
          "output_type": "stream",
          "name": "stdout",
          "text": [
            "택시를 타고 가라\n"
          ]
        }
      ]
    },
    {
      "cell_type": "code",
      "source": [
        "pocket = ['paper','cellphone','money']\n",
        "if 'money' in pocket:\n",
        "  pass\n",
        "else:\n",
        "  print(\"카드를 꺼내라\")"
      ],
      "metadata": {
        "id": "ZidMRAiuy-ok"
      },
      "execution_count": null,
      "outputs": []
    },
    {
      "cell_type": "code",
      "source": [
        "pocket = ['paper','cellphone']\n",
        "card = True\n",
        "if 'money' in pocket:\n",
        "  print(\"택시를 타고 가라\")\n",
        "elif card:\n",
        "  print(\"택시를 타고가라\")\n",
        "else:\n",
        "  print(\"걸어가라\")"
      ],
      "metadata": {
        "colab": {
          "base_uri": "https://localhost:8080/"
        },
        "id": "FLf3YBjdzNYb",
        "outputId": "1c777920-2e8a-44bf-fb41-fad65613bf51"
      },
      "execution_count": null,
      "outputs": [
        {
          "output_type": "stream",
          "name": "stdout",
          "text": [
            "택시를 타고가라\n"
          ]
        }
      ]
    },
    {
      "cell_type": "code",
      "source": [
        "pocket = ['paper','handphone']\n",
        "card = True\n",
        "if 'money' in pocket:\n",
        "  print(\"택시를 타고 가라\")\n",
        "elif card:\n",
        "  print(\"택시를 타고 가라\")\n",
        "else:\n",
        "  print(\"걸어가라\")\n"
      ],
      "metadata": {
        "colab": {
          "base_uri": "https://localhost:8080/"
        },
        "id": "DazFL3wqqGGM",
        "outputId": "a471e0d0-edc1-42d1-cba4-c571ce79ecff"
      },
      "execution_count": null,
      "outputs": [
        {
          "output_type": "stream",
          "name": "stdout",
          "text": [
            "택시를 타고 가라\n"
          ]
        }
      ]
    },
    {
      "cell_type": "code",
      "source": [
        "score=50\n",
        "if score >= 60:\n",
        "  message = \"success\"\n",
        "else:\n",
        "  message = \"failure\"\n",
        "print(message)"
      ],
      "metadata": {
        "id": "ty3URUz0zhRK",
        "colab": {
          "base_uri": "https://localhost:8080/"
        },
        "outputId": "ccaedbf5-5f23-4747-e31b-dde0deb7b0b6"
      },
      "execution_count": null,
      "outputs": [
        {
          "output_type": "stream",
          "name": "stdout",
          "text": [
            "failure\n"
          ]
        }
      ]
    },
    {
      "cell_type": "code",
      "source": [
        "score=65\n",
        "message = \"success\" if score >= 60 else \"failure\"\n",
        "print(message)"
      ],
      "metadata": {
        "id": "1qCDkdJ40FRG",
        "colab": {
          "base_uri": "https://localhost:8080/"
        },
        "outputId": "07d24b48-36b5-467e-fead-e691133a8a11"
      },
      "execution_count": null,
      "outputs": [
        {
          "output_type": "stream",
          "name": "stdout",
          "text": [
            "success\n"
          ]
        }
      ]
    }
  ]
}